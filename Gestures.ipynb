{
 "cells": [
  {
   "cell_type": "code",
   "execution_count": 1,
   "id": "e7e83253-bbb9-493f-96c7-f8806400b380",
   "metadata": {},
   "outputs": [],
   "source": [
    "## Custom Gestures\n",
    "import cv2\n",
    "import mediapipe as mp\n",
    "\n",
    "# Initialize Mediapipe Hand module\n",
    "mp_hands = mp.solutions.hands\n",
    "mp_draw = mp.solutions.drawing_utils\n",
    "hands = mp_hands.Hands(min_detection_confidence=0.5, min_tracking_confidence=0.5)\n",
    "\n",
    "# Define function to detect gestures\n",
    "def detect_gesture(hand_landmarks):\n",
    "    landmarks = hand_landmarks.landmark\n",
    "\n",
    "    \n",
    "\n",
    "    # Gesture conditions\n",
    "    if  landmarks[8].y < landmarks[6].y and  landmarks[12].y < landmarks[10].y and  landmarks[16].y < landmarks[14].y and  landmarks[20].y < landmarks[18].y and landmarks[4].x > landmarks[2].x:\n",
    "        return \"Arise\"  \n",
    "    elif landmarks[8].y > landmarks[6].y and  landmarks[12].y > landmarks[10].y and  landmarks[16].y > landmarks[14].y and  landmarks[20].y > landmarks[18].y and landmarks[4].x < landmarks[2].x:\n",
    "        return \"Freeze \" \n",
    "    index_tip = landmarks[8].y < landmarks[6].y\n",
    "    if index_tip:\n",
    "        if landmarks[8].x > landmarks[6].x:\n",
    "            return \"Left\"\n",
    "        elif landmarks[8].x < landmarks[6].x:\n",
    "            return \"Right\"\n",
    "\n",
    "# Start video capture\n",
    "cap = cv2.VideoCapture(0)\n",
    "\n",
    "while cap.isOpened():\n",
    "    success, frame = cap.read()\n",
    "    if not success:\n",
    "        break\n",
    "    \n",
    "    frame_rgb = cv2.cvtColor(frame, cv2.COLOR_BGR2RGB)\n",
    "    results = hands.process(frame_rgb)\n",
    "\n",
    "    if results.multi_hand_landmarks:\n",
    "        for hand_landmarks in results.multi_hand_landmarks:\n",
    "            mp_draw.draw_landmarks(frame, hand_landmarks, mp_hands.HAND_CONNECTIONS)\n",
    "\n",
    "            # Detect gesture\n",
    "            gesture = detect_gesture(hand_landmarks)\n",
    "            cv2.putText(frame, gesture, (50, 50), cv2.FONT_HERSHEY_SIMPLEX, 1, (0, 255, 0), 2)\n",
    "\n",
    "    cv2.imshow(\"Hand Gesture Recognition\", frame)\n",
    "\n",
    "    if cv2.waitKey(1) & 0xFF == ord('q'):\n",
    "        break\n",
    "\n",
    "cap.release()\n",
    "cv2.destroyAllWindows()"
   ]
  },
  {
   "cell_type": "code",
   "execution_count": null,
   "id": "d0ccab37-ec15-45cf-ace2-70a1fde661aa",
   "metadata": {},
   "outputs": [],
   "source": [
    "q"
   ]
  }
 ],
 "metadata": {
  "kernelspec": {
   "display_name": "Python 3 (ipykernel)",
   "language": "python",
   "name": "python3"
  },
  "language_info": {
   "codemirror_mode": {
    "name": "ipython",
    "version": 3
   },
   "file_extension": ".py",
   "mimetype": "text/x-python",
   "name": "python",
   "nbconvert_exporter": "python",
   "pygments_lexer": "ipython3",
   "version": "3.11.7"
  }
 },
 "nbformat": 4,
 "nbformat_minor": 5
}
